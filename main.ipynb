{
 "cells": [
  {
   "cell_type": "markdown",
   "id": "407747e0-1ab1-41ea-9966-b9a550716133",
   "metadata": {},
   "source": [
    "# 飞桨常规赛：PALM眼底彩照中黄斑中央凹定位-11月第1名方案\n",
    "\n",
    "# （1）比赛介绍\n",
    "\n",
    "## 赛题介绍\n",
    "\n",
    "榜首个人主页，戳[此处](https://aistudio.baidu.com/aistudio/personalcenter/thirdview/335435)查看\n",
    "\n",
    "PALM黄斑定位常规赛的重点是研究和发展与患者眼底照片黄斑结构定位相关的算法。该常规赛的目标是评估和比较在一个常见的视网膜眼底图像数据集上定位黄斑的自动算法。具体目的是预测黄斑中央凹在图像中的坐标值。\n",
    "\n",
    "![](https://ai-studio-static-online.cdn.bcebos.com/caac4481a304405db9e5c4ce14497c029ed4ca5d06b6485cb4decd97cbbd136a)\n",
    "\n",
    "\n",
    "中央凹是视网膜中辨色力、分辨力最敏锐的区域。以人为例，在视盘颞侧约3.5mm处，有一黄色小区，称黄斑，其中央的凹陷，就是中央凹。中央凹的准确定位可辅助医生完成糖尿病视网膜、黄斑变性等病变的诊断。\n",
    "\n",
    "\n",
    "## 赛程赛制\n",
    "\n",
    "（1）飞桨常规赛面向全社会公开报名，直至赛题下线；\n",
    "\n",
    "（2）飞桨常规赛不设初赛、复赛，以当月每位参赛选手提交的最优成绩排名。每月竞赛周期为本月 1 日至本月最后 1 日；\n",
    "\n",
    "（3）比赛期间选手每天最多可提交 5 次作品（预测结果+原始代码），系统自动选取最高成绩作为榜单记录；\n",
    "\n",
    "（4）每个月 1-5 日公布上一个月总榜。当月排名前10 且通过代码复查的选手可获得由百度飞桨颁发的荣誉证书。对于初次上榜的参赛选手，还可额外获得1份特别礼包（1个飞桨周边奖品+ 100小时GPU算力卡）。工作人员将以邮件形式通知上一月排名前10的选手提交材料供代码复查，请各位参赛选手留意邮箱通知。特别提醒： 已获得过特别礼包的参赛选手，如果基于本赛题撰写新的studio项目并被评为精选，才可再次获得1份特别礼包；\n",
    "\n",
    "（5） score超过0.04的第一位选手可额外获得大奖：小度在家；\n",
    "\n",
    "（6） 鼓励选手报名多个主题的飞桨常规赛，以赛促学，全方面提升开发者的深度学习能力。\n",
    "\n",
    "\n"
   ]
  },
  {
   "cell_type": "markdown",
   "id": "1794c42c-59de-4cd7-a99d-31acdba54b66",
   "metadata": {},
   "source": [
    "# （2）数据介绍\n",
    "PALM病理性近视预测常规赛由中山大学中山眼科中心提供800张带黄斑中央凹坐标标注的眼底彩照供选手训练模型，另提供400张带标注数据供平台进行模型测试。\n",
    "\n",
    "## 数据说明\n",
    "本次常规赛提供的金标准由中山大学中山眼科中心的7名眼科医生手工进行标注，之后由另一位高级专家将它们融合为最终的标注结果。本比赛提供数据集对应的黄斑中央凹坐标信息存储在xlsx文件中，名为“Fovea_Location_train”，第一列对应眼底图像的文件名(包括扩展名“.jpg”)，第二列包含x坐标，第三列包含y坐标。\n",
    "图\n",
    "\n",
    "## 训练数据集\n",
    "文件名称：Train\n",
    "Train文件夹里有一个文件夹fundus_images和一个xlsx文件。\n",
    "\n",
    "fundus_images文件夹内包含800张眼底彩照，分辨率为1444×1444，或2124×2056。命名形如H0001.jpg、P0001.jpg、N0001.jpg和V0001.jpg。\n",
    "xlsx文件中包含800张眼底彩照对应的x、y坐标信息。\n",
    "## 测试数据集\n",
    "文件名称：PALM-Testing400-Images 文件夹里包含400张眼底彩照，命名形如T0001.jpg。"
   ]
  },
  {
   "cell_type": "markdown",
   "id": "79c17767-9eea-4bdf-9d7b-0716cdd20301",
   "metadata": {},
   "source": [
    "# （3）个人思路+个人方案亮点\n",
    "\n",
    "## 自定义数据集读取图片和标签\n",
    "\n",
    "```\n",
    "class dataset(paddle.io.Dataset):\n",
    "    def __init__(self,img_list,label_listx,label_listy,transform=None,transform2=None,mode='train'):\n",
    "\n",
    "        self.image=img_list\n",
    "        self.labelx=label_listx\n",
    "        self.labely=label_listy\n",
    "        self.mode=mode\n",
    "        self.transform=transform\n",
    "        self.transform2=transform2\n",
    "    def load_img(self, image_path):\n",
    "\n",
    "        img=cv2.imread(image_path,1)\n",
    "        img=cv2.cvtColor(img,cv2.COLOR_BGR2RGB)\n",
    "        h,w,c=img.shape\n",
    "        return img,h,w\n",
    "\n",
    "\n",
    "    def __getitem__(self,index):\n",
    "        img,h,w = self.load_img(self.image[index])\n",
    "        labelx = self.labelx[index]\n",
    "        labely = self.labely[index]\n",
    "        img_size=img.shape\n",
    "\n",
    "        if self.transform:\n",
    "            if self.mode=='train':\n",
    "                img, label = self.transform([img, [labelx,labely]])\n",
    "            else:\n",
    "                img, label = self.transform2([img, [labelx,labely]])\n",
    "        \n",
    "        \n",
    "        label=np.array(label,dtype='float32')\n",
    "        img=np.array(img,dtype='float32')/255.0\n",
    "        return img,label\n",
    "\n",
    "    def __len__(self):\n",
    "        return len(self.image)\n",
    "```\n",
    "\n",
    "## 使用新的数据增强方法对数据进行增广\n",
    "\n",
    "```\n",
    "\n",
    "class py1(object):\n",
    "    # 将输入图像调整为指定大小\n",
    "\n",
    "    def __init__(self, output_size):\n",
    "        assert isinstance(output_size, (int, tuple))\n",
    "        self.output_size = output_size\n",
    "\n",
    "    def __call__(self, data):\n",
    "\n",
    "        image = data[0]    # 获取图片\n",
    "        key_pts = data[1]  # 获取标签\n",
    "\n",
    "        image_copy = np.copy(image)      \n",
    "        key_pts_copy = np.copy(key_pts)\n",
    "\n",
    "        h, w = image_copy.shape[:2]\n",
    "        if key_pts_copy[0]<self.output_size:\n",
    "            left=np.random.random()*key_pts_copy[0]\n",
    "        elif w-key_pts_copy[0]<self.output_size:\n",
    "            left=w-(w-key_pts_copy[0])*np.random.random()-self.output_size\n",
    "        else:\n",
    "            left=key_pts_copy[0]-self.output_size*np.random.random()                                    \n",
    "\n",
    "        if key_pts_copy[1]<self.output_size:\n",
    "            top=np.random.random()*key_pts_copy[1]\n",
    "        elif h-key_pts_copy[1]<self.output_size:\n",
    "            top=w-(h-key_pts_copy[1])*np.random.random()-self.output_size\n",
    "        else:\n",
    "            top=key_pts_copy[1]-self.output_size*np.random.random() \n",
    "        left=int(left)\n",
    "        top=int(top)\n",
    "        x=(key_pts_copy[0]-left)/self.output_size\n",
    "        y=(key_pts_copy[1]-top)/self.output_size\n",
    "        img=image_copy[top:top+self.output_size,left:left+self.output_size]\n",
    "\n",
    "        return img, [x,y]\n",
    "\n",
    "class py2(object):\n",
    "    # 将输入图像调整为指定大小\n",
    "\n",
    "    def __init__(self, output_size):\n",
    "        assert isinstance(output_size, (int, tuple))\n",
    "        self.output_size = output_size\n",
    "\n",
    "    def __call__(self, data):\n",
    "\n",
    "        image = data[0]    # 获取图片\n",
    "        key_pts = data[1]  # 获取标签\n",
    "\n",
    "        image_copy = np.copy(image)      \n",
    "        key_pts_copy = np.copy(key_pts)\n",
    "\n",
    "        h, w = image_copy.shape[:2]\n",
    "        if key_pts_copy[0]<self.output_size/2:\n",
    "            left=0\n",
    "        elif w-key_pts_copy[0]<self.output_size/2:\n",
    "            left=w-self.output_size\n",
    "        else:\n",
    "            left=key_pts_copy[0]-self.output_size/2                             \n",
    "\n",
    "        if key_pts_copy[1]<self.output_size/2:\n",
    "            top=0\n",
    "        elif h-key_pts_copy[1]<self.output_size/2:\n",
    "            top=w-self.output_size\n",
    "        else:\n",
    "            top=key_pts_copy[1]-self.output_size/2\n",
    "        left=int(left)\n",
    "        top=int(top)\n",
    "        x=(key_pts_copy[0]-left)/self.output_size\n",
    "        y=(key_pts_copy[1]-top)/self.output_size\n",
    "        img=image_copy[top:top+self.output_size,left:left+self.output_size]\n",
    "\n",
    "        return img, [x,y]\n",
    "\n",
    "\n",
    "\n",
    "class GrayNormalize(object):\n",
    "    # 将图片变为灰度图，并将其值放缩到[0, 1]\n",
    "    # 将 label 放缩到 [-1, 1] 之间\n",
    "\n",
    "    def __call__(self, data):\n",
    "        image = data[0]   # 获取图片\n",
    "        key_pts = data[1] # 获取标签\n",
    "        \n",
    "        image_copy = np.copy(image)\n",
    "        key_pts_copy = np.copy(key_pts)\n",
    "\n",
    "        # 灰度化图片\n",
    "        gray_scale = paddle.vision.transforms.Grayscale(num_output_channels=3)\n",
    "        image_copy = gray_scale(image_copy)\n",
    "        \n",
    "        ## 将图片值放缩到 [0, 1]\n",
    "        #image_copy = (image_copy-127.5) /127.5\n",
    "        \n",
    "        # 将坐标点放缩到 [-1, 1]\n",
    "        #mean = data_mean # 获取标签均值\n",
    "        #std = data_std   # 获取标签标准差\n",
    "\n",
    "        #key_pts_copy = (key_pts_copy - mean)/std\n",
    "\n",
    "        return image_copy, key_pts_copy\n",
    "\n",
    "class ToCHW(object):\n",
    "    # 将图像的格式由HWC改为CHW\n",
    "    def __call__(self, data):\n",
    "\n",
    "        image = data[0]\n",
    "        key_pts = data[1]\n",
    "\n",
    "        transpose = T.Transpose((2, 0, 1)) # 改为CHW\n",
    "        image = transpose(image)\n",
    "\n",
    "        \n",
    "        return image, key_pts\n",
    "```\n",
    "\n"
   ]
  },
  {
   "cell_type": "markdown",
   "id": "ddf6c5a7-2942-4d0b-977f-d9d69a3236ea",
   "metadata": {},
   "source": [
    "# （4）具体方案分享\n",
    "\n",
    "代码参考：[『深度学习7日打卡营』人脸关键点检测](https://aistudio.baidu.com/aistudio/projectdetail/1487972)"
   ]
  },
  {
   "cell_type": "markdown",
   "id": "757484c9-49e1-4d5a-92f0-1ce136b34632",
   "metadata": {},
   "source": [
    "## 解压数据集"
   ]
  },
  {
   "cell_type": "code",
   "execution_count": 1,
   "id": "4312b7df-4606-427d-82f3-30c456e2627c",
   "metadata": {
    "execution": {
     "iopub.execute_input": "2021-12-12T08:29:44.561085Z",
     "iopub.status.busy": "2021-12-12T08:29:44.560191Z",
     "iopub.status.idle": "2021-12-12T08:30:01.297084Z",
     "shell.execute_reply": "2021-12-12T08:30:01.296270Z",
     "shell.execute_reply.started": "2021-12-12T08:29:44.561051Z"
    }
   },
   "outputs": [],
   "source": [
    "!unzip -oq /home/aistudio/data/data116960/常规赛：PALM眼底彩照中黄斑中央凹定位.zip\n",
    "!mv │г╣ц╚№г║PALM╤█╡╫▓╩╒╒╓╨╗╞░▀╓╨╤ы░╝╢и╬╗ 常规赛：PALM眼底彩照中黄斑中央凹定位 #不知道为什么会出现乱码，可用此代码恢复中文\n",
    "!rm -rf __MACOSX"
   ]
  },
  {
   "cell_type": "markdown",
   "id": "679ef204-0612-4ecc-9626-1d7f745f1181",
   "metadata": {},
   "source": [
    "## 查看数据标签"
   ]
  },
  {
   "cell_type": "code",
   "execution_count": 1,
   "id": "583acb7c-223f-4c27-a719-c172171478bd",
   "metadata": {
    "execution": {
     "iopub.execute_input": "2021-12-13T07:43:39.877135Z",
     "iopub.status.busy": "2021-12-13T07:43:39.876355Z",
     "iopub.status.idle": "2021-12-13T07:43:40.728676Z",
     "shell.execute_reply": "2021-12-13T07:43:40.728014Z",
     "shell.execute_reply.started": "2021-12-13T07:43:39.877095Z"
    }
   },
   "outputs": [
    {
     "data": {
      "text/html": [
       "<style type='text/css'>\n",
       ".datatable table.frame { margin-bottom: 0; }\n",
       ".datatable table.frame thead { border-bottom: none; }\n",
       ".datatable table.frame tr.coltypes td {  color: #FFFFFF;  line-height: 6px;  padding: 0 0.5em;}\n",
       ".datatable .bool    { background: #DDDD99; }\n",
       ".datatable .object  { background: #565656; }\n",
       ".datatable .int     { background: #5D9E5D; }\n",
       ".datatable .float   { background: #4040CC; }\n",
       ".datatable .str     { background: #CC4040; }\n",
       ".datatable .row_index {  background: var(--jp-border-color3);  border-right: 1px solid var(--jp-border-color0);  color: var(--jp-ui-font-color3);  font-size: 9px;}\n",
       ".datatable .frame tr.coltypes .row_index {  background: var(--jp-border-color0);}\n",
       ".datatable th:nth-child(2) { padding-left: 12px; }\n",
       ".datatable .hellipsis {  color: var(--jp-cell-editor-border-color);}\n",
       ".datatable .vellipsis {  background: var(--jp-layout-color0);  color: var(--jp-cell-editor-border-color);}\n",
       ".datatable .na {  color: var(--jp-cell-editor-border-color);  font-size: 80%;}\n",
       ".datatable .footer { font-size: 9px; }\n",
       ".datatable .frame_dimensions {  background: var(--jp-border-color3);  border-top: 1px solid var(--jp-border-color0);  color: var(--jp-ui-font-color3);  display: inline-block;  opacity: 0.6;  padding: 1px 10px 1px 5px;}\n",
       ".datatable .frame thead tr.colnames {  background-image: url('data:image/png;base64,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');  background-repeat: repeat-x;  background-size: 14px;  height: 28px;}\n",
       "</style>\n"
      ],
      "text/plain": [
       "<IPython.core.display.HTML object>"
      ]
     },
     "metadata": {},
     "output_type": "display_data"
    },
    {
     "data": {
      "text/html": [
       "<div>\n",
       "<style scoped>\n",
       "    .dataframe tbody tr th:only-of-type {\n",
       "        vertical-align: middle;\n",
       "    }\n",
       "\n",
       "    .dataframe tbody tr th {\n",
       "        vertical-align: top;\n",
       "    }\n",
       "\n",
       "    .dataframe thead th {\n",
       "        text-align: right;\n",
       "    }\n",
       "</style>\n",
       "<table border=\"1\" class=\"dataframe\">\n",
       "  <thead>\n",
       "    <tr style=\"text-align: right;\">\n",
       "      <th></th>\n",
       "      <th>imgName</th>\n",
       "      <th>Fovea_X</th>\n",
       "      <th>Fovea_Y</th>\n",
       "    </tr>\n",
       "  </thead>\n",
       "  <tbody>\n",
       "    <tr>\n",
       "      <th>0</th>\n",
       "      <td>H0001.jpg</td>\n",
       "      <td>743.96</td>\n",
       "      <td>790.54</td>\n",
       "    </tr>\n",
       "    <tr>\n",
       "      <th>1</th>\n",
       "      <td>H0002.jpg</td>\n",
       "      <td>1394.82</td>\n",
       "      <td>725.54</td>\n",
       "    </tr>\n",
       "    <tr>\n",
       "      <th>2</th>\n",
       "      <td>H0003.jpg</td>\n",
       "      <td>1361.74</td>\n",
       "      <td>870.72</td>\n",
       "    </tr>\n",
       "    <tr>\n",
       "      <th>3</th>\n",
       "      <td>H0004.jpg</td>\n",
       "      <td>703.15</td>\n",
       "      <td>742.44</td>\n",
       "    </tr>\n",
       "    <tr>\n",
       "      <th>4</th>\n",
       "      <td>H0005.jpg</td>\n",
       "      <td>1070.95</td>\n",
       "      <td>1037.54</td>\n",
       "    </tr>\n",
       "  </tbody>\n",
       "</table>\n",
       "</div>"
      ],
      "text/plain": [
       "     imgName  Fovea_X  Fovea_Y\n",
       "0  H0001.jpg   743.96   790.54\n",
       "1  H0002.jpg  1394.82   725.54\n",
       "2  H0003.jpg  1361.74   870.72\n",
       "3  H0004.jpg   703.15   742.44\n",
       "4  H0005.jpg  1070.95  1037.54"
      ]
     },
     "execution_count": 1,
     "metadata": {},
     "output_type": "execute_result"
    }
   ],
   "source": [
    "import blackhole.dataframe as pd\n",
    "df=pd.read_excel('常规赛：PALM眼底彩照中黄斑中央凹定位/Train/Fovea_Location_train.xlsx')\n",
    "df.head()"
   ]
  },
  {
   "cell_type": "markdown",
   "id": "fcee1c18-2612-480c-966f-ba3a1ee5354b",
   "metadata": {},
   "source": [
    "## 数据增强"
   ]
  },
  {
   "cell_type": "code",
   "execution_count": 2,
   "id": "d52f6d2a-e1ab-42b0-910d-444abc809b3a",
   "metadata": {
    "execution": {
     "iopub.execute_input": "2021-12-13T07:44:35.131378Z",
     "iopub.status.busy": "2021-12-13T07:44:35.131065Z",
     "iopub.status.idle": "2021-12-13T07:44:36.353952Z",
     "shell.execute_reply": "2021-12-13T07:44:36.353156Z",
     "shell.execute_reply.started": "2021-12-13T07:44:35.131346Z"
    }
   },
   "outputs": [],
   "source": [
    "import paddle.vision.transforms.functional as F\n",
    "class py1(object):\n",
    "    # 将输入图像调整为指定大小\n",
    "\n",
    "    def __init__(self, output_size):\n",
    "        assert isinstance(output_size, (int, tuple))\n",
    "        self.output_size = output_size\n",
    "\n",
    "    def __call__(self, data):\n",
    "\n",
    "        image = data[0]    # 获取图片\n",
    "        key_pts = data[1]  # 获取标签\n",
    "\n",
    "        image_copy = np.copy(image)      \n",
    "        key_pts_copy = np.copy(key_pts)\n",
    "\n",
    "        h, w = image_copy.shape[:2]\n",
    "        if key_pts_copy[0]<self.output_size:\n",
    "            left=np.random.random()*key_pts_copy[0]\n",
    "        elif w-key_pts_copy[0]<self.output_size:\n",
    "            left=w-(w-key_pts_copy[0])*np.random.random()-self.output_size\n",
    "        else:\n",
    "            left=key_pts_copy[0]-self.output_size*np.random.random()                                    \n",
    "\n",
    "        if key_pts_copy[1]<self.output_size:\n",
    "            top=np.random.random()*key_pts_copy[1]\n",
    "        elif h-key_pts_copy[1]<self.output_size:\n",
    "            top=w-(h-key_pts_copy[1])*np.random.random()-self.output_size\n",
    "        else:\n",
    "            top=key_pts_copy[1]-self.output_size*np.random.random() \n",
    "        left=int(left)\n",
    "        top=int(top)\n",
    "        x=(key_pts_copy[0]-left)/self.output_size\n",
    "        y=(key_pts_copy[1]-top)/self.output_size\n",
    "        img=image_copy[top:top+self.output_size,left:left+self.output_size]\n",
    "\n",
    "        return img, [x,y]\n",
    "\n",
    "class py2(object):\n",
    "    # 将输入图像调整为指定大小\n",
    "\n",
    "    def __init__(self, output_size):\n",
    "        assert isinstance(output_size, (int, tuple))\n",
    "        self.output_size = output_size\n",
    "\n",
    "    def __call__(self, data):\n",
    "\n",
    "        image = data[0]    # 获取图片\n",
    "        key_pts = data[1]  # 获取标签\n",
    "\n",
    "        image_copy = np.copy(image)      \n",
    "        key_pts_copy = np.copy(key_pts)\n",
    "\n",
    "        h, w = image_copy.shape[:2]\n",
    "        if key_pts_copy[0]<self.output_size/2:\n",
    "            left=0\n",
    "        elif w-key_pts_copy[0]<self.output_size/2:\n",
    "            left=w-self.output_size\n",
    "        else:\n",
    "            left=key_pts_copy[0]-self.output_size/2                             \n",
    "\n",
    "        if key_pts_copy[1]<self.output_size/2:\n",
    "            top=0\n",
    "        elif h-key_pts_copy[1]<self.output_size/2:\n",
    "            top=w-self.output_size\n",
    "        else:\n",
    "            top=key_pts_copy[1]-self.output_size/2\n",
    "        left=int(left)\n",
    "        top=int(top)\n",
    "        x=(key_pts_copy[0]-left)/self.output_size\n",
    "        y=(key_pts_copy[1]-top)/self.output_size\n",
    "        img=image_copy[top:top+self.output_size,left:left+self.output_size]\n",
    "\n",
    "        return img, [x,y]\n",
    "\n",
    "\n",
    "\n",
    "class GrayNormalize(object):\n",
    "    # 将图片变为灰度图，并将其值放缩到[0, 1]\n",
    "    # 将 label 放缩到 [-1, 1] 之间\n",
    "\n",
    "    def __call__(self, data):\n",
    "        image = data[0]   # 获取图片\n",
    "        key_pts = data[1] # 获取标签\n",
    "        \n",
    "        image_copy = np.copy(image)\n",
    "        key_pts_copy = np.copy(key_pts)\n",
    "\n",
    "        # 灰度化图片\n",
    "        gray_scale = paddle.vision.transforms.Grayscale(num_output_channels=3)\n",
    "        image_copy = gray_scale(image_copy)\n",
    "        \n",
    "        ## 将图片值放缩到 [0, 1]\n",
    "        #image_copy = (image_copy-127.5) /127.5\n",
    "        \n",
    "        # 将坐标点放缩到 [-1, 1]\n",
    "        #mean = data_mean # 获取标签均值\n",
    "        #std = data_std   # 获取标签标准差\n",
    "\n",
    "        #key_pts_copy = (key_pts_copy - mean)/std\n",
    "\n",
    "        return image_copy, key_pts_copy\n",
    "\n",
    "class ToCHW(object):\n",
    "    # 将图像的格式由HWC改为CHW\n",
    "    def __call__(self, data):\n",
    "\n",
    "        image = data[0]\n",
    "        key_pts = data[1]\n",
    "\n",
    "        transpose = T.Transpose((2, 0, 1)) # 改为CHW\n",
    "        image = transpose(image)\n",
    "\n",
    "        \n",
    "        return image, key_pts"
   ]
  },
  {
   "cell_type": "code",
   "execution_count": 3,
   "id": "b30ea07a-3481-40e8-bd71-8c5ae6868405",
   "metadata": {
    "execution": {
     "iopub.execute_input": "2021-12-13T07:44:47.446773Z",
     "iopub.status.busy": "2021-12-13T07:44:47.445985Z",
     "iopub.status.idle": "2021-12-13T07:44:57.382790Z",
     "shell.execute_reply": "2021-12-13T07:44:57.382103Z",
     "shell.execute_reply.started": "2021-12-13T07:44:47.446738Z"
    }
   },
   "outputs": [],
   "source": [
    "import paddle.vision.transforms as T\n",
    "data_transform = T.Compose([\n",
    "                        py1(224),\n",
    "                        \n",
    "                        GrayNormalize(),\n",
    "                        ToCHW(),\n",
    "\n",
    "                         ])\n",
    "data_transform2 = T.Compose([\n",
    "                        py2(224),\n",
    "                        GrayNormalize(),\n",
    "                        ToCHW(),\n",
    "\n",
    "                        ])"
   ]
  },
  {
   "cell_type": "markdown",
   "id": "3bbca3f1-58ea-4903-92d8-c0bca2b7b320",
   "metadata": {},
   "source": [
    "## 自定义数据集"
   ]
  },
  {
   "cell_type": "code",
   "execution_count": 4,
   "id": "b883ed33-084e-4897-a67a-04a7e39edebc",
   "metadata": {
    "execution": {
     "iopub.execute_input": "2021-12-13T07:44:57.396621Z",
     "iopub.status.busy": "2021-12-13T07:44:57.396250Z",
     "iopub.status.idle": "2021-12-13T07:44:58.845805Z",
     "shell.execute_reply": "2021-12-13T07:44:58.845059Z",
     "shell.execute_reply.started": "2021-12-13T07:44:57.396598Z"
    }
   },
   "outputs": [],
   "source": [
    "path='常规赛：PALM眼底彩照中黄斑中央凹定位/Train/fundus_image/'\n",
    "df=df.sample(frac=1)\n",
    "image_list=[]\n",
    "label_listx=[]\n",
    "label_listy=[]\n",
    "\n",
    "for i in range(len(df)):\n",
    "        image_list.append(path+df['imgName'][i])\n",
    "        label_listx.append(df['Fovea_X'][i])\n",
    "        label_listy.append(df['Fovea_Y'][i])"
   ]
  },
  {
   "cell_type": "code",
   "execution_count": 5,
   "id": "87a4a1ba-b1fd-4040-bb61-75601db01944",
   "metadata": {
    "execution": {
     "iopub.execute_input": "2021-12-13T07:45:02.534900Z",
     "iopub.status.busy": "2021-12-13T07:45:02.534269Z",
     "iopub.status.idle": "2021-12-13T07:45:02.641213Z",
     "shell.execute_reply": "2021-12-13T07:45:02.640331Z",
     "shell.execute_reply.started": "2021-12-13T07:45:02.534862Z"
    }
   },
   "outputs": [],
   "source": [
    "import os\n",
    "test_path='常规赛：PALM眼底彩照中黄斑中央凹定位/PALM-Testing400-Images'\n",
    "test_list=[]\n",
    "test_labelx=[]\n",
    "test_labely=[]\n",
    "#list=pd.read_csv('result54.70313.csv')\n",
    "list=pd.read_csv('????.csv')   #????.csv为以前提交的结果文件，选一个成绩好的。\n",
    "\n",
    "#list = os.listdir(test_path)  # 列出文件夹下所有的目录与文件\n",
    "for i in range(0, len(list)):\n",
    "    path = os.path.join(test_path, list['FileName'][i])\n",
    "    test_list.append(path)\n",
    "    test_labelx.append(list['Fovea_X'][i])\n",
    "    test_labely.append(list['Fovea_Y'][i])"
   ]
  },
  {
   "cell_type": "code",
   "execution_count": 6,
   "id": "18d95dfd-5e4f-414a-b1ed-3acee2f1ea0c",
   "metadata": {
    "execution": {
     "iopub.execute_input": "2021-12-13T07:45:14.870693Z",
     "iopub.status.busy": "2021-12-13T07:45:14.870069Z",
     "iopub.status.idle": "2021-12-13T07:45:14.878252Z",
     "shell.execute_reply": "2021-12-13T07:45:14.877734Z",
     "shell.execute_reply.started": "2021-12-13T07:45:14.870659Z"
    }
   },
   "outputs": [],
   "source": [
    "import paddle\n",
    "import cv2\n",
    "import numpy as np\n",
    "class dataset(paddle.io.Dataset):\n",
    "    def __init__(self,img_list,label_listx,label_listy,transform=None,transform2=None,mode='train'):\n",
    "\n",
    "        self.image=img_list\n",
    "        self.labelx=label_listx\n",
    "        self.labely=label_listy\n",
    "        self.mode=mode\n",
    "        self.transform=transform\n",
    "        self.transform2=transform2\n",
    "    def load_img(self, image_path):\n",
    "\n",
    "        img=cv2.imread(image_path,1)\n",
    "        img=cv2.cvtColor(img,cv2.COLOR_BGR2RGB)\n",
    "        h,w,c=img.shape\n",
    "        return img,h,w\n",
    "\n",
    "\n",
    "    def __getitem__(self,index):\n",
    "        img,h,w = self.load_img(self.image[index])\n",
    "        labelx = self.labelx[index]\n",
    "        labely = self.labely[index]\n",
    "        img_size=img.shape\n",
    "\n",
    "        if self.transform:\n",
    "            if self.mode=='train':\n",
    "                img, label = self.transform([img, [labelx,labely]])\n",
    "            else:\n",
    "                img, label = self.transform2([img, [labelx,labely]])\n",
    "        \n",
    "        \n",
    "        label=np.array(label,dtype='float32')\n",
    "        img=np.array(img,dtype='float32')/255.0\n",
    "        return img,label\n",
    "\n",
    "    def __len__(self):\n",
    "        return len(self.image)"
   ]
  },
  {
   "cell_type": "markdown",
   "id": "53a85b67-1835-4d71-a955-8037cecee15e",
   "metadata": {},
   "source": [
    "## 训练集、验证集、测试集"
   ]
  },
  {
   "cell_type": "code",
   "execution_count": 7,
   "id": "061dca9d-c61b-4f4e-b394-f0d6fd404338",
   "metadata": {
    "execution": {
     "iopub.execute_input": "2021-12-13T07:45:20.829931Z",
     "iopub.status.busy": "2021-12-13T07:45:20.829228Z",
     "iopub.status.idle": "2021-12-13T07:45:20.836161Z",
     "shell.execute_reply": "2021-12-13T07:45:20.835358Z",
     "shell.execute_reply.started": "2021-12-13T07:45:20.829894Z"
    }
   },
   "outputs": [],
   "source": [
    "radio=0.8\n",
    "train_list=image_list[:int(len(image_list)*radio)]\n",
    "train_labelx=label_listx[:int(len(label_listx)*radio)]\n",
    "train_labely=label_listy[:int(len(label_listy)*radio)]\n",
    "\n",
    "\n",
    "val_list=image_list[int(len(image_list)*radio):]\n",
    "val_labelx=label_listx[int(len(label_listx)*radio):]\n",
    "val_labely=label_listy[int(len(label_listy)*radio):]\n",
    "\n",
    "\n",
    "train_ds=dataset(train_list,train_labelx,train_labely,data_transform,data_transform2,'train')\n",
    "val_ds=dataset(val_list,val_labelx,val_labely,data_transform,data_transform2,'valid')\n",
    "test_ds=dataset(test_list,test_labelx,test_labely,data_transform,data_transform2,'test')"
   ]
  },
  {
   "cell_type": "markdown",
   "id": "bbf16d48-7622-41e7-a0a4-b09f390e6d84",
   "metadata": {},
   "source": [
    "## 查看图片"
   ]
  },
  {
   "cell_type": "code",
   "execution_count": 14,
   "id": "356bdbf5-0ebc-4664-b49a-097d52a6b929",
   "metadata": {
    "execution": {
     "iopub.execute_input": "2021-12-13T07:46:24.428130Z",
     "iopub.status.busy": "2021-12-13T07:46:24.427285Z",
     "iopub.status.idle": "2021-12-13T07:46:24.697136Z",
     "shell.execute_reply": "2021-12-13T07:46:24.696484Z",
     "shell.execute_reply.started": "2021-12-13T07:46:24.428093Z"
    }
   },
   "outputs": [
    {
     "name": "stdout",
     "output_type": "stream",
     "text": [
      "(224, 224, 3)\n"
     ]
    },
    {
     "data": {
      "image/png": "[encoded data removed]",
      "text/plain": [
       "<Figure size 432x288 with 1 Axes>"
      ]
     },
     "metadata": {
      "needs_background": "light"
     },
     "output_type": "display_data"
    }
   ],
   "source": [
    "import matplotlib.pyplot as plt\n",
    "for i,data in enumerate(train_ds):\n",
    "    \n",
    "    img,label=data\n",
    "\n",
    "    img=img.transpose([1,2,0])\n",
    "    print(img.shape)\n",
    "\n",
    "    plt.title(label*224)\n",
    "    plt.imshow(img)\n",
    "    plt.show()\n",
    "\n",
    "    if i==0:\n",
    "        break"
   ]
  },
  {
   "cell_type": "markdown",
   "id": "051b2088-1bad-40fd-b84a-00209f05a3c6",
   "metadata": {},
   "source": [
    "## 模型组网\n",
    "以下两个网络结构任选一"
   ]
  },
  {
   "cell_type": "code",
   "execution_count": 15,
   "id": "f5a925ec-80be-4c3a-952f-d3c24e30fbe1",
   "metadata": {
    "execution": {
     "iopub.execute_input": "2021-12-13T07:46:32.877485Z",
     "iopub.status.busy": "2021-12-13T07:46:32.876669Z",
     "iopub.status.idle": "2021-12-13T07:46:32.882501Z",
     "shell.execute_reply": "2021-12-13T07:46:32.881960Z",
     "shell.execute_reply.started": "2021-12-13T07:46:32.877448Z"
    }
   },
   "outputs": [],
   "source": [
    "class MyNet1(paddle.nn.Layer):\n",
    "    def __init__(self,num_classes=2):\n",
    "        super(MyNet1,self).__init__()\n",
    "        self.net=paddle.vision.resnet152(pretrained=True)\n",
    "\n",
    "        self.fc1=paddle.nn.Linear(1000,512)\n",
    "        self.relu=paddle.nn.ReLU()\n",
    "        self.fc2=paddle.nn.Linear(512,num_classes)\n",
    "\n",
    "    def forward(self,inputs):\n",
    "        out=self.net(inputs)\n",
    "\n",
    "        out=self.fc1(out)\n",
    "        out=self.relu(out)\n",
    "        out=self.fc2(out)\n",
    "\n",
    "        return out"
   ]
  },
  {
   "cell_type": "code",
   "execution_count": 17,
   "id": "b5ed68f5-4537-4fe8-b59f-5b4056dca56d",
   "metadata": {
    "execution": {
     "iopub.execute_input": "2021-12-13T07:46:55.981923Z",
     "iopub.status.busy": "2021-12-13T07:46:55.981110Z",
     "iopub.status.idle": "2021-12-13T07:46:55.988366Z",
     "shell.execute_reply": "2021-12-13T07:46:55.987727Z",
     "shell.execute_reply.started": "2021-12-13T07:46:55.981877Z"
    }
   },
   "outputs": [],
   "source": [
    "class MyNet2(paddle.nn.Layer):\n",
    "    def __init__(self):\n",
    "        super(MyNet2, self).__init__()\n",
    "        self.resnet = paddle.vision.resnet50(pretrained=True, num_classes=0) # remove final fc 输出为[?, 2048, 1, 1]\n",
    "        self.flatten = paddle.nn.Flatten()\n",
    "        self.linear_1 = paddle.nn.Linear(2048, 512)\n",
    "        self.linear_2 = paddle.nn.Linear(512, 256)\n",
    "        self.linear_3 = paddle.nn.Linear(256, 2)\n",
    "        self.relu = paddle.nn.ReLU()\n",
    "        self.dropout = paddle.nn.Dropout(0.2)\n",
    "    \n",
    "    def forward(self, inputs):\n",
    "\n",
    "        y = self.resnet(inputs)\n",
    "        y = self.flatten(y)\n",
    "        y = self.linear_1(y)\n",
    "        y = self.linear_2(y)\n",
    "        y = self.relu(y)\n",
    "        y = self.dropout(y)\n",
    "        y = self.linear_3(y)\n",
    "        y = paddle.nn.functional.sigmoid(y)\n",
    "\n",
    "        return y"
   ]
  },
  {
   "cell_type": "markdown",
   "id": "eaea401a-0d94-4506-a74d-2d1813d31ac4",
   "metadata": {},
   "source": [
    "## 异步加载数据"
   ]
  },
  {
   "cell_type": "code",
   "execution_count": 18,
   "id": "e134c824-f8cd-4b8a-a0b5-7626de6a800c",
   "metadata": {
    "execution": {
     "iopub.execute_input": "2021-12-13T07:46:59.908630Z",
     "iopub.status.busy": "2021-12-13T07:46:59.907998Z",
     "iopub.status.idle": "2021-12-13T07:46:59.913351Z",
     "shell.execute_reply": "2021-12-13T07:46:59.912737Z",
     "shell.execute_reply.started": "2021-12-13T07:46:59.908592Z"
    }
   },
   "outputs": [],
   "source": [
    "train_loader = paddle.io.DataLoader(train_ds, places=paddle.CPUPlace(), batch_size=32, shuffle=True, num_workers=0)\n",
    "val_loader = paddle.io.DataLoader(val_ds, places=paddle.CPUPlace(), batch_size=32, shuffle=False, num_workers=0)\n",
    "test_loader=paddle.io.DataLoader(test_ds, places=paddle.CPUPlace(), batch_size=32, shuffle=False, num_workers=0)"
   ]
  },
  {
   "cell_type": "markdown",
   "id": "4e4919c9-0470-4e1b-a6d4-f18a668c58df",
   "metadata": {},
   "source": [
    "## 自定义损失函数"
   ]
  },
  {
   "cell_type": "code",
   "execution_count": 19,
   "id": "e167a076-4b32-4e6b-b82b-991fd4a150fc",
   "metadata": {
    "execution": {
     "iopub.execute_input": "2021-12-13T07:47:27.637671Z",
     "iopub.status.busy": "2021-12-13T07:47:27.637038Z",
     "iopub.status.idle": "2021-12-13T07:47:27.910265Z",
     "shell.execute_reply": "2021-12-13T07:47:27.909588Z",
     "shell.execute_reply.started": "2021-12-13T07:47:27.637634Z"
    }
   },
   "outputs": [],
   "source": [
    "from sklearn.metrics.pairwise import euclidean_distances \n",
    "import paddle.nn as nn\n",
    "\n",
    "# 损失函数\n",
    "def cal_coordinate_Loss(logit, label, alpha = 0.5):\n",
    "    \"\"\"\n",
    "    logit: shape [batch, ndim]\n",
    "    label: shape [batch, ndim]\n",
    "    ndim = 2 represents coordinate_x and coordinaate_y\n",
    "    alpha: weight for MSELoss and 1-alpha for ED loss\n",
    "    return: combine MSELoss and ED Loss for x and y, shape [batch, 1]\n",
    "    \"\"\"\n",
    "    alpha = alpha\n",
    "    mse_loss = nn.MSELoss(reduction='mean')\n",
    "\n",
    "    mse_x = mse_loss(logit[:,0],label[:,0])\n",
    "    mse_y = mse_loss(logit[:,1],label[:,1])\n",
    "    mse_l = 0.5*(mse_x + mse_y)\n",
    "    # print('mse_l', mse_l)\n",
    "\n",
    "    ed_loss = []\n",
    "    # print(logit.shape[0])\n",
    "    for i in range(logit.shape[0]):\n",
    "        logit_tmp = logit[i,:].numpy()\n",
    "        label_tmp = label[i,:].numpy()\n",
    "        # print('cal_coordinate_loss_ed', logit_tmp, label_tmp)        \n",
    "        ed_tmp = euclidean_distances([logit_tmp], [label_tmp])\n",
    "        # print('ed_tmp:', ed_tmp[0][0])\n",
    "        ed_loss.append(ed_tmp)\n",
    "    \n",
    "    ed_l = sum(ed_loss)/len(ed_loss)\n",
    "    # print('ed_l', ed_l)\n",
    "    # print('alpha', alpha)\n",
    "    loss = alpha * mse_l + (1-alpha) * ed_l\n",
    "    # print('loss in function', loss)\n",
    "    return loss"
   ]
  },
  {
   "cell_type": "code",
   "execution_count": 20,
   "id": "2ee48dda-9204-4a09-8209-75cefdc729fc",
   "metadata": {
    "execution": {
     "iopub.execute_input": "2021-12-13T07:47:31.524691Z",
     "iopub.status.busy": "2021-12-13T07:47:31.524239Z",
     "iopub.status.idle": "2021-12-13T07:47:31.529458Z",
     "shell.execute_reply": "2021-12-13T07:47:31.528891Z",
     "shell.execute_reply.started": "2021-12-13T07:47:31.524655Z"
    }
   },
   "outputs": [],
   "source": [
    "class SelfDefineLoss(paddle.nn.Layer):\n",
    "   \"\"\"\n",
    "   1. 继承paddle.nn.Layer\n",
    "   \"\"\"\n",
    "   def __init__(self):\n",
    "       \"\"\"\n",
    "       2. 构造函数根据自己的实际算法需求和使用需求进行参数定义即可\n",
    "       \"\"\"\n",
    "       super(SelfDefineLoss, self).__init__()\n",
    "\n",
    "   def forward(self, input, label):\n",
    "       \"\"\"\n",
    "       3. 实现forward函数，forward在调用时会传递两个参数：input和label\n",
    "           - input：单个或批次训练数据经过模型前向计算输出结果\n",
    "           - label：单个或批次训练数据对应的标签数据\n",
    "           接口返回值是一个Tensor，根据自定义的逻辑加和或计算均值后的损失\n",
    "       \"\"\"\n",
    "       # 使用PaddlePaddle中相关API自定义的计算逻辑\n",
    "       output = cal_coordinate_Loss(input,label)\n",
    "       return output"
   ]
  },
  {
   "cell_type": "markdown",
   "id": "4c46cb80-d9ca-4aa1-937b-7c5815bd97c5",
   "metadata": {},
   "source": [
    "## 模型训练与可视化\n",
    "\n",
    "如果图片尺寸较大应适当调小Batch_size，防止爆显存。"
   ]
  },
  {
   "cell_type": "code",
   "execution_count": 22,
   "id": "9c00aaa4-12f4-461d-816b-87a62f1ba613",
   "metadata": {
    "execution": {
     "iopub.execute_input": "2021-12-13T07:48:23.078236Z",
     "iopub.status.busy": "2021-12-13T07:48:23.077561Z",
     "iopub.status.idle": "2021-12-13T08:07:52.877047Z",
     "shell.execute_reply": "2021-12-13T08:07:52.876345Z",
     "shell.execute_reply.started": "2021-12-13T07:48:23.078197Z"
    }
   },
   "outputs": [
    {
     "name": "stdout",
     "output_type": "stream",
     "text": [
      "The loss value printed in the log is the current step, and the metric is the average value of previous steps.\n",
      "Epoch 1/20\n",
      "step 20/20 [==============================] - loss: 0.0604 - nme: 0.4010 - 4s/step           \n",
      "save checkpoint at /home/aistudio/work/lup/0\n",
      "Eval begin...\n",
      "step 5/5 [==============================] - loss: 0.0053 - nme: 0.1495 - 8s/step\n",
      "Eval samples: 160\n",
      "Epoch 2/20\n",
      "step 20/20 [==============================] - loss: 0.0361 - nme: 0.3705 - 2s/step           \n",
      "save checkpoint at /home/aistudio/work/lup/1\n",
      "Eval begin...\n",
      "step 5/5 [==============================] - loss: 0.0100 - nme: 0.1334 - 2s/step\n",
      "Eval samples: 160\n",
      "Epoch 3/20\n",
      "step 20/20 [==============================] - loss: 0.0350 - nme: 0.3663 - 2s/step           \n",
      "save checkpoint at /home/aistudio/work/lup/2\n",
      "Eval begin...\n",
      "step 5/5 [==============================] - loss: 0.0096 - nme: 0.1611 - 2s/step\n",
      "Eval samples: 160\n",
      "Epoch 4/20\n",
      "step 20/20 [==============================] - loss: 0.0353 - nme: 0.3423 - 2s/step           \n",
      "save checkpoint at /home/aistudio/work/lup/3\n",
      "Eval begin...\n",
      "step 5/5 [==============================] - loss: 0.0057 - nme: 0.1399 - 2s/step\n",
      "Eval samples: 160\n",
      "Epoch 5/20\n",
      "step 20/20 [==============================] - loss: 0.0325 - nme: 0.3279 - 2s/step           \n",
      "save checkpoint at /home/aistudio/work/lup/4\n",
      "Eval begin...\n",
      "step 5/5 [==============================] - loss: 0.0063 - nme: 0.1391 - 2s/step\n",
      "Eval samples: 160\n",
      "Epoch 6/20\n",
      "step 20/20 [==============================] - loss: 0.0288 - nme: 0.3110 - 2s/step           \n",
      "save checkpoint at /home/aistudio/work/lup/5\n",
      "Eval begin...\n",
      "step 5/5 [==============================] - loss: 0.0057 - nme: 0.1273 - 2s/step\n",
      "Eval samples: 160\n",
      "Epoch 7/20\n",
      "step 20/20 [==============================] - loss: 0.0219 - nme: 0.2979 - 2s/step           \n",
      "save checkpoint at /home/aistudio/work/lup/6\n",
      "Eval begin...\n",
      "step 5/5 [==============================] - loss: 0.0060 - nme: 0.1356 - 2s/step\n",
      "Eval samples: 160\n",
      "Epoch 8/20\n",
      "step 20/20 [==============================] - loss: 0.0339 - nme: 0.3089 - 2s/step           \n",
      "save checkpoint at /home/aistudio/work/lup/7\n",
      "Eval begin...\n",
      "step 5/5 [==============================] - loss: 0.0060 - nme: 0.1382 - 2s/step\n",
      "Eval samples: 160\n",
      "Epoch 9/20\n",
      "step 20/20 [==============================] - loss: 0.0246 - nme: 0.3041 - 2s/step           \n",
      "save checkpoint at /home/aistudio/work/lup/8\n",
      "Eval begin...\n",
      "step 5/5 [==============================] - loss: 0.0067 - nme: 0.1365 - 2s/step\n",
      "Eval samples: 160\n",
      "Epoch 10/20\n",
      "step 20/20 [==============================] - loss: 0.0315 - nme: 0.3006 - 2s/step           \n",
      "save checkpoint at /home/aistudio/work/lup/9\n",
      "Eval begin...\n",
      "step 5/5 [==============================] - loss: 0.0061 - nme: 0.1383 - 2s/step\n",
      "Eval samples: 160\n",
      "Epoch 11/20\n",
      "step 20/20 [==============================] - loss: 0.0254 - nme: 0.3009 - 2s/step           \n",
      "save checkpoint at /home/aistudio/work/lup/10\n",
      "Eval begin...\n",
      "step 5/5 [==============================] - loss: 0.0061 - nme: 0.1386 - 2s/step\n",
      "Eval samples: 160\n",
      "Epoch 12/20\n",
      "step 20/20 [==============================] - loss: 0.0273 - nme: 0.2984 - 2s/step           \n",
      "save checkpoint at /home/aistudio/work/lup/11\n",
      "Eval begin...\n",
      "step 5/5 [==============================] - loss: 0.0069 - nme: 0.1412 - 2s/step\n",
      "Eval samples: 160\n",
      "Epoch 13/20\n",
      "step 20/20 [==============================] - loss: 0.0365 - nme: 0.2950 - 2s/step           \n",
      "save checkpoint at /home/aistudio/work/lup/12\n",
      "Eval begin...\n",
      "step 20/20 [==============================] - loss: 0.0340 - nme: 0.2917 - 2s/step           \n",
      "save checkpoint at /home/aistudio/work/lup/13\n",
      "Eval begin...\n",
      "step 5/5 [==============================] - loss: 0.0066 - nme: 0.1376 - 2s/step\n",
      "Eval samples: 160\n",
      "Epoch 15/20\n",
      "step 20/20 [==============================] - loss: 0.0331 - nme: 0.2910 - 2s/step           \n",
      "save checkpoint at /home/aistudio/work/lup/14\n",
      "Eval begin...\n",
      "step 5/5 [==============================] - loss: 0.0070 - nme: 0.1403 - 2s/step\n",
      "Eval samples: 160\n",
      "Epoch 16/20\n",
      "step 20/20 [==============================] - loss: 0.0334 - nme: 0.2885 - 2s/step           \n",
      "save checkpoint at /home/aistudio/work/lup/15\n",
      "Eval begin...\n",
      "step 5/5 [==============================] - loss: 0.0066 - nme: 0.1383 - 2s/step\n",
      "Eval samples: 160\n",
      "Epoch 17/20\n",
      "step 20/20 [==============================] - loss: 0.0373 - nme: 0.2919 - 2s/step           \n",
      "save checkpoint at /home/aistudio/work/lup/16\n",
      "Eval begin...\n",
      "step 5/5 [==============================] - loss: 0.0069 - nme: 0.1401 - 2s/step\n",
      "Eval samples: 160\n",
      "Epoch 18/20\n",
      "step 20/20 [==============================] - loss: 0.0232 - nme: 0.2843 - 2s/step           \n",
      "save checkpoint at /home/aistudio/work/lup/17\n",
      "Eval begin...\n",
      "step 5/5 [==============================] - loss: 0.0064 - nme: 0.1348 - 2s/step\n",
      "Eval samples: 160\n",
      "Epoch 19/20\n",
      "step 20/20 [==============================] - loss: 0.0291 - nme: 0.2869 - 2s/step           \n",
      "save checkpoint at /home/aistudio/work/lup/18\n",
      "Eval begin...\n",
      "step 5/5 [==============================] - loss: 0.0068 - nme: 0.1389 - 2s/step\n",
      "Eval samples: 160\n",
      "Epoch 20/20\n",
      "step 20/20 [==============================] - loss: 0.0342 - nme: 0.2946 - 2s/step           \n",
      "save checkpoint at /home/aistudio/work/lup/19\n",
      "Eval begin...\n",
      "step 5/5 [==============================] - loss: 0.0062 - nme: 0.1368 - 2s/step\n",
      "Eval samples: 160\n",
      "save checkpoint at /home/aistudio/work/lup/final\n"
     ]
    }
   ],
   "source": [
    "from utils import NME\n",
    "import warnings\n",
    "warnings.filterwarnings('ignore')\n",
    "visualdl=paddle.callbacks.VisualDL(log_dir='visual_log')\n",
    "\n",
    "#定义输入\n",
    "\n",
    "Batch_size=32\n",
    "EPOCHS=20\n",
    "step_each_epoch = len(train_ds)//Batch_size\n",
    "\n",
    "\n",
    "# 使用 paddle.Model 封装模型\n",
    "model = paddle.Model(MyNet2())\n",
    "\n",
    "#模型加载\n",
    "#model.load('/home/aistudio/work/lup/final')\n",
    "\n",
    "\n",
    "lr = paddle.optimizer.lr.CosineAnnealingDecay(learning_rate=1e-5,\n",
    "                                                T_max=step_each_epoch * EPOCHS)\n",
    "\n",
    "\n",
    "\n",
    "\n",
    "# 定义Adam优化器\n",
    "optimizer = paddle.optimizer.Adam(learning_rate=lr,\n",
    "                                weight_decay=1e-5,\n",
    "                                parameters=model.parameters())\n",
    "# 定义SmoothL1Loss\n",
    "loss =paddle.nn.SmoothL1Loss()\n",
    "#loss =SelfDefineLoss()\n",
    "\n",
    "# 使用自定义metrics\n",
    "metric = NME()\n",
    "\n",
    "model.prepare(optimizer=optimizer, loss=loss, metrics=metric)\n",
    "\n",
    "\n",
    "\n",
    "\n",
    "# 训练可视化VisualDL工具的回调函数\n",
    "\n",
    "# 启动模型全流程训练\n",
    "model.fit(train_loader,  # 训练数据集\n",
    "          val_loader,   # 评估数据集\n",
    "          epochs=EPOCHS,       # 训练的总轮次\n",
    "          batch_size=Batch_size,  # 训练使用的批大小\n",
    "          save_dir=\"/home/aistudio/work/lup\", #把模型参数、优化器参数保存至自定义的文件夹\n",
    "          save_freq=1,                    #设定每隔多少个epoch保存模型参数及优化器参数\n",
    "          verbose=1 ,      # 日志展示形式\n",
    "          callbacks=[visualdl]\n",
    "          )  # 设置可视化"
   ]
  },
  {
   "cell_type": "markdown",
   "id": "00f0404f-bddf-4fcc-a290-49063d7b7563",
   "metadata": {},
   "source": [
    "## 模型评估"
   ]
  },
  {
   "cell_type": "code",
   "execution_count": 23,
   "id": "6462c3eb-d379-4b16-9350-c030243f2abc",
   "metadata": {
    "execution": {
     "iopub.execute_input": "2021-12-13T08:11:54.339203Z",
     "iopub.status.busy": "2021-12-13T08:11:54.338569Z",
     "iopub.status.idle": "2021-12-13T08:12:06.781586Z",
     "shell.execute_reply": "2021-12-13T08:12:06.780982Z",
     "shell.execute_reply.started": "2021-12-13T08:11:54.339165Z"
    }
   },
   "outputs": [
    {
     "name": "stdout",
     "output_type": "stream",
     "text": [
      "Eval begin...\n",
      "step 5/5 [==============================] - loss: 0.0057 - nme: 0.1273 - 2s/step\n",
      "Eval samples: 160\n",
      "{'loss': [0.005723397], 'nme': 0.1273284799297331}\n"
     ]
    }
   ],
   "source": [
    "# 模型评估\n",
    "model.load('/home/aistudio/work/lup/5')\n",
    "result = model.evaluate(val_loader, verbose=1)\n",
    "print(result)"
   ]
  },
  {
   "cell_type": "markdown",
   "id": "d94f9d79-35c5-4491-a355-e9b0bd2abe5e",
   "metadata": {},
   "source": [
    "## 进行预测操作"
   ]
  },
  {
   "cell_type": "code",
   "execution_count": 24,
   "id": "569e55f4-0daa-43f0-8421-3b1e33cc14f7",
   "metadata": {
    "execution": {
     "iopub.execute_input": "2021-12-13T08:12:11.913418Z",
     "iopub.status.busy": "2021-12-13T08:12:11.912650Z",
     "iopub.status.idle": "2021-12-13T08:12:40.548083Z",
     "shell.execute_reply": "2021-12-13T08:12:40.547343Z",
     "shell.execute_reply.started": "2021-12-13T08:12:11.913382Z"
    }
   },
   "outputs": [
    {
     "name": "stdout",
     "output_type": "stream",
     "text": [
      "Predict begin...\n",
      "step 13/13 [==============================] - 2s/step          \n",
      "Predict samples: 400\n"
     ]
    }
   ],
   "source": [
    "# 进行预测操作\n",
    "result = model.predict(test_loader)"
   ]
  },
  {
   "cell_type": "code",
   "execution_count": 26,
   "id": "539a5e3d-3b4a-4063-9bc9-ada6a999c5b0",
   "metadata": {
    "execution": {
     "iopub.execute_input": "2021-12-13T08:20:49.484033Z",
     "iopub.status.busy": "2021-12-13T08:20:49.483553Z",
     "iopub.status.idle": "2021-12-13T08:21:14.162552Z",
     "shell.execute_reply": "2021-12-13T08:21:14.161863Z",
     "shell.execute_reply.started": "2021-12-13T08:20:49.483990Z"
    }
   },
   "outputs": [],
   "source": [
    "# 获取测试图片尺寸和图片名\n",
    "test_path='常规赛：PALM眼底彩照中黄斑中央凹定位/PALM-Testing400-Images'\n",
    "test_size=[]\n",
    "FileName=[]\n",
    "for i in range(len(list)):\n",
    "    #path = os.path.join(test_path, list[i])\n",
    "    path=test_list[i]\n",
    "    img=cv2.imread(path,1)\n",
    "    test_size.append(img.shape)\n",
    "    FileName.append(list['FileName'][i])\n",
    "test_size=np.array(test_size)"
   ]
  },
  {
   "cell_type": "code",
   "execution_count": 32,
   "id": "da6bc748-6f30-4342-ae8a-8ec0d2be083b",
   "metadata": {
    "execution": {
     "iopub.execute_input": "2021-12-13T08:25:57.778886Z",
     "iopub.status.busy": "2021-12-13T08:25:57.778424Z",
     "iopub.status.idle": "2021-12-13T08:25:57.801707Z",
     "shell.execute_reply": "2021-12-13T08:25:57.800780Z",
     "shell.execute_reply.started": "2021-12-13T08:25:57.778851Z"
    }
   },
   "outputs": [],
   "source": [
    "result=np.array(result)\n",
    "pred=[]\n",
    "for i in range(len(result[0])):\n",
    "    pred.extend(result[0][i])\n",
    "pred=np.array(pred) \n",
    "\n",
    "pred = paddle.to_tensor(pred)\n",
    "out=np.array(pred).reshape(-1,2)\n",
    "\n",
    "#Fovea_X=out[:,0]*data_std+data_mean\n",
    "#Fovea_Y=out[:,1]*data_std+data_mean\n",
    "Fovea_X=out[:,0]\n",
    "Fovea_Y=out[:,1]\n",
    "\n",
    "#Fovea_X=Fovea_X*test_size[:,1]\n",
    "#Fovea_Y=Fovea_Y*test_size[:,0]\n",
    "for i in range(400):\n",
    "    if test_labelx[i]<112:\n",
    "        x0=0\n",
    "    elif test_labelx[i]>(test_size[i][1]-112):\n",
    "        x0=test_size[i][1]-112\n",
    "    else:\n",
    "        x0=test_labelx[i]-112\n",
    "\n",
    "    if test_labely[i]<112:\n",
    "        y0=0\n",
    "    elif test_labely[i]>test_size[i][0]-112:\n",
    "        y0=test_size[i][0]-112\n",
    "    else:\n",
    "        y0=test_labely[i]-112\n",
    "\n",
    "\n",
    "    Fovea_X[i]=x0+Fovea_X[i]*224\n",
    "    Fovea_Y[i]=y0+Fovea_Y[i]*224\n",
    "\n",
    "submission = pd.DataFrame(data={\n",
    "                            \"FileName\": FileName,\n",
    "                            \"Fovea_X\": Fovea_X,\n",
    "                            \"Fovea_Y\": Fovea_Y\n",
    "                        })\n",
    "submission=submission.sort_values(by='FileName')\n",
    "submission.to_csv(\"result.csv\", index=False)"
   ]
  },
  {
   "cell_type": "markdown",
   "id": "de9dd053-958c-49bf-9213-a934a1e6558f",
   "metadata": {},
   "source": [
    "## 结果文件查看"
   ]
  },
  {
   "cell_type": "code",
   "execution_count": 33,
   "id": "225e7336-f2c4-4b92-b5bb-29247d4d6693",
   "metadata": {
    "execution": {
     "iopub.execute_input": "2021-12-13T08:26:02.652322Z",
     "iopub.status.busy": "2021-12-13T08:26:02.651676Z",
     "iopub.status.idle": "2021-12-13T08:26:02.670382Z",
     "shell.execute_reply": "2021-12-13T08:26:02.669626Z",
     "shell.execute_reply.started": "2021-12-13T08:26:02.652286Z"
    }
   },
   "outputs": [
    {
     "data": {
      "text/html": [
       "<div>\n",
       "<style scoped>\n",
       "    .dataframe tbody tr th:only-of-type {\n",
       "        vertical-align: middle;\n",
       "    }\n",
       "\n",
       "    .dataframe tbody tr th {\n",
       "        vertical-align: top;\n",
       "    }\n",
       "\n",
       "    .dataframe thead th {\n",
       "        text-align: right;\n",
       "    }\n",
       "</style>\n",
       "<table border=\"1\" class=\"dataframe\">\n",
       "  <thead>\n",
       "    <tr style=\"text-align: right;\">\n",
       "      <th></th>\n",
       "      <th>FileName</th>\n",
       "      <th>Fovea_X</th>\n",
       "      <th>Fovea_Y</th>\n",
       "    </tr>\n",
       "  </thead>\n",
       "  <tbody>\n",
       "    <tr>\n",
       "      <th>0</th>\n",
       "      <td>T0001.jpg</td>\n",
       "      <td>1275.212769</td>\n",
       "      <td>947.638123</td>\n",
       "    </tr>\n",
       "    <tr>\n",
       "      <th>1</th>\n",
       "      <td>T0002.jpg</td>\n",
       "      <td>1078.371338</td>\n",
       "      <td>1054.087524</td>\n",
       "    </tr>\n",
       "    <tr>\n",
       "      <th>2</th>\n",
       "      <td>T0003.jpg</td>\n",
       "      <td>1079.881104</td>\n",
       "      <td>1059.292847</td>\n",
       "    </tr>\n",
       "    <tr>\n",
       "      <th>3</th>\n",
       "      <td>T0004.jpg</td>\n",
       "      <td>1302.749023</td>\n",
       "      <td>1016.598938</td>\n",
       "    </tr>\n",
       "    <tr>\n",
       "      <th>4</th>\n",
       "      <td>T0005.jpg</td>\n",
       "      <td>1309.635010</td>\n",
       "      <td>701.692017</td>\n",
       "    </tr>\n",
       "  </tbody>\n",
       "</table>\n",
       "</div>"
      ],
      "text/plain": [
       "    FileName      Fovea_X      Fovea_Y\n",
       "0  T0001.jpg  1275.212769   947.638123\n",
       "1  T0002.jpg  1078.371338  1054.087524\n",
       "2  T0003.jpg  1079.881104  1059.292847\n",
       "3  T0004.jpg  1302.749023  1016.598938\n",
       "4  T0005.jpg  1309.635010   701.692017"
      ]
     },
     "execution_count": 33,
     "metadata": {},
     "output_type": "execute_result"
    }
   ],
   "source": [
    "submission.head()"
   ]
  },
  {
   "cell_type": "markdown",
   "id": "552236d3-bff1-4e83-8ac4-a6a3c8f838d1",
   "metadata": {},
   "source": [
    "## 结果投票集成\n",
    "\n",
    "简单投票集成学习，这个可以提升效果，尽量选得分高的进行投票。\n",
    "\n",
    "在统计学和机器学习中，集成学习方法使用多种学习算法来获得比单独使用任何单独的学习算法更好的预测性能。\n",
    "\n",
    "使用不同超参数、不同的特征，不同的结构，运行多次模型可得到不同的预测结果。在这里我使用的是简单投票法，取平均值作为最终的预测结果。 预测出多个result后，进行投票，代码如下："
   ]
  },
  {
   "cell_type": "code",
   "execution_count": null,
   "id": "866d255a-0d46-459e-9a1b-7adfdf64206c",
   "metadata": {},
   "outputs": [],
   "source": [
    "import numpy as np\n",
    "import blackhole.dataframe as pd\n",
    "df1=pd.read_csv('result40.14874.csv')\n",
    "df2=pd.read_csv('result41.98309.csv')\n",
    "df3=pd.read_csv('result54.70313.csv')\n",
    "df4=pd.read_csv('result49.75246.csv')\n",
    "\n",
    "\n",
    "dfs=[df1,df2,df3,df4]\n",
    "\n",
    "File_Name=[]\n",
    "Fovea_X=[]\n",
    "Fovea_Y=[]\n",
    "for i in range(len(df1)):\n",
    "    File_Name.append(dfs[0]['FileName'][i])\n",
    "    avgx=(sum(np.array(dfs[x]['Fovea_X'][i]) for x in range(len(dfs))))/len(dfs)\n",
    "    avgy=(sum(np.array(dfs[x]['Fovea_Y'][i]) for x in range(len(dfs))))/len(dfs)\n",
    "    \n",
    "    Fovea_X.append(avgx)\n",
    "    Fovea_Y.append(avgy)\n",
    "submission = pd.DataFrame(data={\n",
    "                            \"FileName\": File_Name,\n",
    "                            \"Fovea_X\": Fovea_X,\n",
    "                            \"Fovea_Y\":Fovea_Y\n",
    "                        })\n",
    "submission=submission.sort_values(by='FileName')\n",
    "submission.to_csv(\"result.csv\", index=False)"
   ]
  },
  {
   "cell_type": "markdown",
   "id": "bc853d1f-d048-4cb4-a910-0a542cac57ab",
   "metadata": {},
   "source": [
    "# （5）总结及改善方向\n",
    "\n",
    "1、多试几个的预训练模型。\n",
    "\n",
    "2、选择合适的学习率。\n",
    "\n",
    "3、更换别的优化器。\n",
    "\n",
    "4、投票方法能提高成绩，但是存在天花板。\n",
    "\n",
    "5、曾专门用训练神经网络对中央凹可见、不可见情况进行了分类，结果测试集并未分到中央凹不可见的类别，但是总觉得测试集定位应该有（0，0），不是很确定。"
   ]
  },
  {
   "cell_type": "markdown",
   "id": "b11b77c9-dce4-4aa4-a229-53b8c163c04c",
   "metadata": {},
   "source": [
    "# （6）飞桨使用体验+给其他选手学习飞桨的建议\n",
    "\n",
    "建议大家多参加百度AI Studio课程，多看别人写的AI Studio项目，也许会有灵感迸发，在比赛中取得更好的成绩。"
   ]
  },
  {
   "cell_type": "markdown",
   "id": "96bb35df-e334-4c87-85dd-86b7acc62364",
   "metadata": {},
   "source": [
    "# （7）One More Thing\n",
    "\n",
    "眼底彩照中黄斑中央凹定位相关论文\n",
    "\n",
    "1.[Pathological myopia classification with simultaneous lesion segmentation using deep learning](https://www.sciencedirect.com/science/article/pii/S0169260720317533)\n",
    "\n",
    "2.[Detection of Pathological Myopia and Optic Disc Segmentation with Deep Convolutional Neural Networks](https://ieeexplore.ieee.org/abstract/document/8929252/)\n",
    "\n",
    "[我在AI Studio上获得钻石等级，点亮10个徽章，来互关呀~](https://aistudio.baidu.com/aistudio/personalcenter/thirdview/335435)\n"
   ]
  }
 ],
 "metadata": {
  "kernelspec": {
   "display_name": "Python 3",
   "language": "python",
   "name": "py35-paddle1.2.0"
  },
  "language_info": {
   "codemirror_mode": {
    "name": "ipython",
    "version": 3
   },
   "file_extension": ".py",
   "mimetype": "text/x-python",
   "name": "python",
   "nbconvert_exporter": "python",
   "pygments_lexer": "ipython3",
   "version": "3.7.4"
  }
 },
 "nbformat": 4,
 "nbformat_minor": 5
}
